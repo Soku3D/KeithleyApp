{
 "cells": [
  {
   "cell_type": "markdown",
   "metadata": {},
   "source": [
    "# 2400 device는 drain/source voltage를 인가하고, 이에 따른 transistor device에 흐르는 전류를 측정한다."
   ]
  },
  {
   "cell_type": "code",
   "execution_count": null,
   "metadata": {},
   "outputs": [],
   "source": [
    "import pyvisa\n",
    "\n",
    "rm = pyvisa.ResourceManager()\n",
    "device_24 = rm.open_resource('GPIB::24::INSTR')\n",
    "\n",
    "#DeviceID 확인\n",
    "print(device_24.query('*IDN?'))\n",
    "\n",
    "#출력 상태 ON\n",
    "device_24.write(':OUTP ON')\n",
    "\n",
    "min_voltage = -60\n",
    "max_voltage = 60\n",
    "\n",
    "for volt in range(min_voltage, max_voltage+1):\n",
    "    #전압 인가\n",
    "    device_24.write(f':SOUR:FUNC {volt}')\n",
    "    #\n",
    "    device_24.write()\n",
    "\n",
    "device_24.write(':OUTP OFF')\n",
    "device_24.close()"
   ]
  }
 ],
 "metadata": {
  "language_info": {
   "name": "python"
  }
 },
 "nbformat": 4,
 "nbformat_minor": 2
}
