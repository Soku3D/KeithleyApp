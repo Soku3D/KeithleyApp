{
 "cells": [
  {
   "cell_type": "markdown",
   "metadata": {},
   "source": [
    "### 2400 device\n",
    "\n",
    "2400 device는 drain/source voltage를 인가하고, 이에 따른 transistor device에 흐르는 전류를 측정한다."
   ]
  },
  {
   "cell_type": "code",
   "execution_count": null,
   "metadata": {},
   "outputs": [],
   "source": [
    "import pyvisa\n",
    "import time\n",
    "\n",
    "rm = pyvisa.ResourceManager()\n",
    "device24 = rm.open_resource('GPIB::24::INSTR')\n",
    "\n",
    "# DeviceID\n",
    "print(device24.query('*IDN?'))\n",
    "\n",
    "\n",
    "\n",
    "currentLimit = 0.1\n",
    "device24.write(f':SENS:CURR:PROT {currentLimit}') # Set Current Limit\n",
    "\n",
    "minVoltage = -60\n",
    "maxVoltage = 60\n",
    "\n",
    "\n",
    "device24.write(':SOUR:FUNC VOLT')# Set voltage source mode\n",
    "device24.write(':SENS:FUNC \"CURR\"') # Set current measure mode\n",
    "for volt in range(minVoltage, maxVoltage+1):\n",
    "    \n",
    "    #\n",
    "    device24.write()\n",
    "    #wait 1 second\n",
    "    time.sleep(1)\n",
    "    \n",
    "\n",
    "\n",
    "device24.write(':OUTP OFF')\n",
    "device24.close()"
   ]
  }
 ],
 "metadata": {
  "language_info": {
   "name": "python"
  }
 },
 "nbformat": 4,
 "nbformat_minor": 2
}
