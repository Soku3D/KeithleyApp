{
 "cells": [
  {
   "cell_type": "code",
   "execution_count": 1,
   "metadata": {},
   "outputs": [
    {
     "data": {
      "text/plain": [
       "6"
      ]
     },
     "execution_count": 1,
     "metadata": {},
     "output_type": "execute_result"
    }
   ],
   "source": [
    "import pyvisa\n",
    "import time\n",
    "import numpy as np\n",
    "import pandas as pd\n",
    "import matplotlib.pyplot as plt\n",
    "rm=pyvisa.ResourceManager()\n",
    "rm.list_resources()\n",
    "keithley1= rm.open_resource('GPIB0::24::INSTR')       # Keithley GPIB adress 25\n",
    "keithley1.write('*RST')\n",
    "# a=keithley1.query(\"*IDN?\")\n",
    "# print (a)"
   ]
  },
  {
   "cell_type": "markdown",
   "metadata": {},
   "source": [
    "#### Test parameter set-up"
   ]
  },
  {
   "cell_type": "code",
   "execution_count": 8,
   "metadata": {},
   "outputs": [],
   "source": [
    "start_current=0        #unit A\n",
    "stop_current=10\n",
    "step_current=1\n",
    "volt_prot='0.1'     #voltage protection level\n",
    "ontime= 1    # turn on bias before measurement  unit: sec\n",
    "\n",
    "#File to save\n",
    "fname='test'             # change file name\n",
    "directory= \"C:\\\\temp\\\\\"  # change folder name if necessary\n",
    "dataf=directory+fname+'.csv'\n",
    "# dataf"
   ]
  },
  {
   "cell_type": "markdown",
   "metadata": {},
   "source": [
    "#### Keithley current source setup"
   ]
  },
  {
   "cell_type": "code",
   "execution_count": 11,
   "metadata": {},
   "outputs": [
    {
     "data": {
      "text/plain": [
       "18"
      ]
     },
     "execution_count": 11,
     "metadata": {},
     "output_type": "execute_result"
    }
   ],
   "source": [
    "keithley1.write( \":SYST:CLE\")\n",
    "keithley1.write(\"SYST:BEEP:STAT OFF\")       #   'Beeper off\n",
    "keithley1.write(\"SOUR:FUNC:MODE VOLT\")\n",
    "keithley1.write(\"SENS:FUNC 'CURR:DC'\")\n",
    "keithley1.write(\"SOUR:VOLT:MODE FIXED\")\n",
    "\n",
    "keithley1.write(\":SENS:FUNC:CONC OFF\")\n",
    "# keithley1.write(\"SENS:FUNC:ON VOLT,CURR\")\n",
    "keithley1.write(\"SENSE:VOLTAGE:DC:RANGE:AUTO ON\")\n",
    "keithley1.write(\"SENSE:CURRENT:DC:RANGE:AUTO ON\")\n",
    "\n",
    "keithley1.write( \":SENSE:CURR:PROT \" + volt_prot)\n",
    "keithley1.write( \":FORM:ELEM VOLT,CURR\")\n",
    "keithley1.write(\":SENSE:RES:MODE MAN\")\n",
    "keithley1.write(\":SYSTEM:RSEN OFF\")\n"
   ]
  },
  {
   "cell_type": "code",
   "execution_count": 7,
   "metadata": {
    "collapsed": true
   },
   "outputs": [],
   "source": [
    "V=[]\n",
    "I=[]\n",
    "R=[]\n",
    "\n",
    "def measureR(bias):\n",
    "    curr=str(bias)\n",
    "    keithley1.write(\":SOUR:CURR:LEV:IMM:AMPL \"+ curr )\n",
    "    keithley1.write(':OUTP ON')\n",
    "    time.sleep(ontime)\n",
    "    keithley1.write(\":READ?\")\n",
    "    vi=keithley1.read()\n",
    "    resistanceCal(vi)\n",
    "    keithley1.write(':OUTP OFF')\n",
    "\n",
    "def resistanceCal(vi):\n",
    "    volt_curr=vi.rstrip().split(',')\n",
    "    volt=float(volt_curr[0])\n",
    "    curr=float(volt_curr[1])\n",
    "    res=volt/curr\n",
    "    V.append(volt)\n",
    "    I.append(curr)\n",
    "    R.append(res)\n",
    "   "
   ]
  },
  {
   "cell_type": "code",
   "execution_count": 9,
   "metadata": {},
   "outputs": [],
   "source": [
    "for i in np.arange(start_current, stop_current+step_current, step_current):\n",
    "    measureR(i)\n",
    "    \n",
    "data=pd.DataFrame({'Volt (mV)':V,\n",
    "                   'Curr (mA)':I,\n",
    "                    'Resistance': R})\n",
    "data.to_csv(dataf)\n",
    "V.clear()\n",
    "I.clear()\n",
    "R.clear()"
   ]
  },
  {
   "cell_type": "code",
   "execution_count": 10,
   "metadata": {},
   "outputs": [
    {
     "data": {
      "image/png": "[encoded data removed]",
      "text/plain": [
       "<Figure size 432x288 with 1 Axes>"
      ]
     },
     "metadata": {
      "needs_background": "light"
     },
     "output_type": "display_data"
    }
   ],
   "source": [
    "plt.plot(data['Curr (mA)']*1000, data['Resistance'])\n",
    "plt.show()"
   ]
  },
  {
   "cell_type": "code",
   "execution_count": null,
   "metadata": {
    "collapsed": true
   },
   "outputs": [],
   "source": []
  }
 ],
 "metadata": {
  "kernelspec": {
   "display_name": "Python 3",
   "language": "python",
   "name": "python3"
  },
  "language_info": {
   "codemirror_mode": {
    "name": "ipython",
    "version": 3
   },
   "file_extension": ".py",
   "mimetype": "text/x-python",
   "name": "python",
   "nbconvert_exporter": "python",
   "pygments_lexer": "ipython3",
   "version": "3.10.11"
  }
 },
 "nbformat": 4,
 "nbformat_minor": 2
}
