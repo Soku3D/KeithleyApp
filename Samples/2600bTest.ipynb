{
 "cells": [
  {
   "cell_type": "markdown",
   "metadata": {},
   "source": [
    "### 2600b device\n",
    "\n",
    "2600b device는Gate Voltage를 인가하고 누설 Current를 측정한다.\n",
    "이 때 전압은 일정한 상태를 유지한다."
   ]
  },
  {
   "cell_type": "code",
   "execution_count": 61,
   "metadata": {},
   "outputs": [
    {
     "data": {
      "text/plain": [
       "37"
      ]
     },
     "execution_count": 61,
     "metadata": {},
     "output_type": "execute_result"
    }
   ],
   "source": [
    "import pyvisa\n",
    "\n",
    "rm = pyvisa.ResourceManager()\n",
    "keithley = rm.open_resource('GPIB1::26::INSTR')\n",
    "\n",
    "#Check DeviceID\n",
    "#print(keithley.query('*IDN?'))\n",
    "\n",
    "\n",
    "\n",
    "minRange = -60\n",
    "maxRange = 60\n",
    "\n",
    "volt = 1\n",
    "currentLimit26 = 0.1\n",
    "keithley.write('smua.source.limiti = 0.1')\n",
    "keithley.write('smua.source.func = smua.OUTPUT_VOLTS')\n",
    "keithley.write('smua.source.levelv = 5')\n",
    "keithley.write('smua.source.output = smua.OUTPUT_ON')\n",
    "\n",
    "#keithley.write('print(smua.measure.i())')\n",
    "#rint(keithley.read())\n",
    "#keithley.write('smua.source.output = smua.OUTPUT_OFF')\n",
    "\n",
    "#Turns on SMU channel A source output.\n",
    "\n",
    "\n"
   ]
  },
  {
   "cell_type": "code",
   "execution_count": 73,
   "metadata": {},
   "outputs": [
    {
     "name": "stdout",
     "output_type": "stream",
     "text": [
      "Voltage: 0.1 V, Current: 6.93679e-14\n",
      " A\n",
      "Voltage: 0.2 V, Current: 6.70314e-14\n",
      " A\n",
      "Voltage: 0.30000000000000004 V, Current: 5.80430e-14\n",
      " A\n",
      "Voltage: 0.4 V, Current: 5.99265e-14\n",
      " A\n"
     ]
    },
    {
     "ename": "VisaIOError",
     "evalue": "VI_ERROR_TMO (-1073807339): Timeout expired before operation completed.",
     "output_type": "error",
     "traceback": [
      "\u001b[1;31m---------------------------------------------------------------------------\u001b[0m",
      "\u001b[1;31mVisaIOError\u001b[0m                               Traceback (most recent call last)",
      "\u001b[1;32mc:\\Users\\son97\\Documents\\GitHub\\KeithleyApp\\Samples\\2600bTest.ipynb Cell 3\u001b[0m line \u001b[0;36m3\n\u001b[0;32m     <a href='vscode-notebook-cell:/c%3A/Users/son97/Documents/GitHub/KeithleyApp/Samples/2600bTest.ipynb#W2sZmlsZQ%3D%3D?line=35'>36</a>\u001b[0m     currents\u001b[39m.\u001b[39mappend(\u001b[39mfloat\u001b[39m(current))\n\u001b[0;32m     <a href='vscode-notebook-cell:/c%3A/Users/son97/Documents/GitHub/KeithleyApp/Samples/2600bTest.ipynb#W2sZmlsZQ%3D%3D?line=37'>38</a>\u001b[0m keithley\u001b[39m.\u001b[39mwrite(\u001b[39m\"\u001b[39m\u001b[39msmua.source.output = smua.OUTPUT_OFF\u001b[39m\u001b[39m\"\u001b[39m)  \u001b[39m# 출력 끄기\u001b[39;00m\n\u001b[1;32m---> <a href='vscode-notebook-cell:/c%3A/Users/son97/Documents/GitHub/KeithleyApp/Samples/2600bTest.ipynb#W2sZmlsZQ%3D%3D?line=38'>39</a>\u001b[0m error \u001b[39m=\u001b[39m keithley\u001b[39m.\u001b[39mquery(\u001b[39m\"\u001b[39m\u001b[39m:SYST:ERR?\u001b[39m\u001b[39m\"\u001b[39m)\n\u001b[0;32m     <a href='vscode-notebook-cell:/c%3A/Users/son97/Documents/GitHub/KeithleyApp/Samples/2600bTest.ipynb#W2sZmlsZQ%3D%3D?line=39'>40</a>\u001b[0m \u001b[39mprint\u001b[39m(\u001b[39mf\u001b[39m\u001b[39m\"\u001b[39m\u001b[39mSystem Error: \u001b[39m\u001b[39m{\u001b[39;00merror\u001b[39m}\u001b[39;00m\u001b[39m\"\u001b[39m)\n\u001b[0;32m     <a href='vscode-notebook-cell:/c%3A/Users/son97/Documents/GitHub/KeithleyApp/Samples/2600bTest.ipynb#W2sZmlsZQ%3D%3D?line=40'>41</a>\u001b[0m \u001b[39m# 측정이 완료되면 장치 종료\u001b[39;00m\n",
      "File \u001b[1;32mc:\\Users\\son97\\anaconda3\\Lib\\site-packages\\pyvisa\\resources\\messagebased.py:647\u001b[0m, in \u001b[0;36mMessageBasedResource.query\u001b[1;34m(self, message, delay)\u001b[0m\n\u001b[0;32m    644\u001b[0m \u001b[39mif\u001b[39;00m delay \u001b[39m>\u001b[39m \u001b[39m0.0\u001b[39m:\n\u001b[0;32m    645\u001b[0m     time\u001b[39m.\u001b[39msleep(delay)\n\u001b[1;32m--> 647\u001b[0m \u001b[39mreturn\u001b[39;00m \u001b[39mself\u001b[39m\u001b[39m.\u001b[39mread()\n",
      "File \u001b[1;32mc:\\Users\\son97\\anaconda3\\Lib\\site-packages\\pyvisa\\resources\\messagebased.py:485\u001b[0m, in \u001b[0;36mMessageBasedResource.read\u001b[1;34m(self, termination, encoding)\u001b[0m\n\u001b[0;32m    483\u001b[0m \u001b[39mif\u001b[39;00m termination \u001b[39mis\u001b[39;00m \u001b[39mNone\u001b[39;00m:\n\u001b[0;32m    484\u001b[0m     termination \u001b[39m=\u001b[39m \u001b[39mself\u001b[39m\u001b[39m.\u001b[39m_read_termination\n\u001b[1;32m--> 485\u001b[0m     message \u001b[39m=\u001b[39m \u001b[39mself\u001b[39m\u001b[39m.\u001b[39m_read_raw()\u001b[39m.\u001b[39mdecode(enco)\n\u001b[0;32m    486\u001b[0m \u001b[39melse\u001b[39;00m:\n\u001b[0;32m    487\u001b[0m     \u001b[39mwith\u001b[39;00m \u001b[39mself\u001b[39m\u001b[39m.\u001b[39mread_termination_context(termination):\n",
      "File \u001b[1;32mc:\\Users\\son97\\anaconda3\\Lib\\site-packages\\pyvisa\\resources\\messagebased.py:441\u001b[0m, in \u001b[0;36mMessageBasedResource._read_raw\u001b[1;34m(self, size)\u001b[0m\n\u001b[0;32m    434\u001b[0m     \u001b[39mwhile\u001b[39;00m status \u001b[39m==\u001b[39m loop_status:\n\u001b[0;32m    435\u001b[0m         logger\u001b[39m.\u001b[39mdebug(\n\u001b[0;32m    436\u001b[0m             \u001b[39m\"\u001b[39m\u001b[39m%s\u001b[39;00m\u001b[39m - reading \u001b[39m\u001b[39m%d\u001b[39;00m\u001b[39m bytes (last status \u001b[39m\u001b[39m%r\u001b[39;00m\u001b[39m)\u001b[39m\u001b[39m\"\u001b[39m,\n\u001b[0;32m    437\u001b[0m             \u001b[39mself\u001b[39m\u001b[39m.\u001b[39m_resource_name,\n\u001b[0;32m    438\u001b[0m             size,\n\u001b[0;32m    439\u001b[0m             status,\n\u001b[0;32m    440\u001b[0m         )\n\u001b[1;32m--> 441\u001b[0m         chunk, status \u001b[39m=\u001b[39m \u001b[39mself\u001b[39m\u001b[39m.\u001b[39mvisalib\u001b[39m.\u001b[39mread(\u001b[39mself\u001b[39m\u001b[39m.\u001b[39msession, size)\n\u001b[0;32m    442\u001b[0m         ret\u001b[39m.\u001b[39mextend(chunk)\n\u001b[0;32m    443\u001b[0m \u001b[39mexcept\u001b[39;00m errors\u001b[39m.\u001b[39mVisaIOError \u001b[39mas\u001b[39;00m e:\n",
      "File \u001b[1;32mc:\\Users\\son97\\anaconda3\\Lib\\site-packages\\pyvisa\\ctwrapper\\functions.py:2336\u001b[0m, in \u001b[0;36mread\u001b[1;34m(library, session, count)\u001b[0m\n\u001b[0;32m   2334\u001b[0m buffer \u001b[39m=\u001b[39m create_string_buffer(count)\n\u001b[0;32m   2335\u001b[0m return_count \u001b[39m=\u001b[39m ViUInt32()\n\u001b[1;32m-> 2336\u001b[0m ret \u001b[39m=\u001b[39m library\u001b[39m.\u001b[39mviRead(session, buffer, count, byref(return_count))\n\u001b[0;32m   2337\u001b[0m \u001b[39mreturn\u001b[39;00m buffer\u001b[39m.\u001b[39mraw[: return_count\u001b[39m.\u001b[39mvalue], ret\n",
      "File \u001b[1;32mc:\\Users\\son97\\anaconda3\\Lib\\site-packages\\pyvisa\\ctwrapper\\highlevel.py:226\u001b[0m, in \u001b[0;36mIVIVisaLibrary._return_handler\u001b[1;34m(self, ret_value, func, arguments)\u001b[0m\n\u001b[0;32m    223\u001b[0m         \u001b[39m# Set session back to a safe value\u001b[39;00m\n\u001b[0;32m    224\u001b[0m         session \u001b[39m=\u001b[39m \u001b[39mNone\u001b[39;00m\n\u001b[1;32m--> 226\u001b[0m \u001b[39mreturn\u001b[39;00m \u001b[39mself\u001b[39m\u001b[39m.\u001b[39mhandle_return_value(session, ret_value)\n",
      "File \u001b[1;32mc:\\Users\\son97\\anaconda3\\Lib\\site-packages\\pyvisa\\highlevel.py:251\u001b[0m, in \u001b[0;36mVisaLibraryBase.handle_return_value\u001b[1;34m(self, session, status_code)\u001b[0m\n\u001b[0;32m    248\u001b[0m     \u001b[39mself\u001b[39m\u001b[39m.\u001b[39m_last_status_in_session[session] \u001b[39m=\u001b[39m rv\n\u001b[0;32m    250\u001b[0m \u001b[39mif\u001b[39;00m rv \u001b[39m<\u001b[39m \u001b[39m0\u001b[39m:\n\u001b[1;32m--> 251\u001b[0m     \u001b[39mraise\u001b[39;00m errors\u001b[39m.\u001b[39mVisaIOError(rv)\n\u001b[0;32m    253\u001b[0m \u001b[39mif\u001b[39;00m rv \u001b[39min\u001b[39;00m \u001b[39mself\u001b[39m\u001b[39m.\u001b[39missue_warning_on:\n\u001b[0;32m    254\u001b[0m     \u001b[39mif\u001b[39;00m session \u001b[39mand\u001b[39;00m rv \u001b[39mnot\u001b[39;00m \u001b[39min\u001b[39;00m \u001b[39mself\u001b[39m\u001b[39m.\u001b[39m_ignore_warning_in_session[session]:\n",
      "\u001b[1;31mVisaIOError\u001b[0m: VI_ERROR_TMO (-1073807339): Timeout expired before operation completed."
     ]
    }
   ],
   "source": [
    "import pyvisa\n",
    "import time\n",
    "\n",
    "# VISA 리소스 매니저 생성\n",
    "rm = pyvisa.ResourceManager()\n",
    "\n",
    "# Keithley 2635B 연결 (리소스 이름은 변경될 수 있습니다)\n",
    "keithley = rm.open_resource('GPIB1::26::INSTR')\n",
    "keithley.timeout = 5000  \n",
    "# TSP 명령어로 장치 설정\n",
    "keithley.write(\"smua.reset()\")  # SMU A 초기화\n",
    "keithley.write(\"smua.source.func = smua.OUTPUT_DCVOLTS\")  # 소스 기능을 전압으로 설정\n",
    "keithley.write(\"smua.source.autorangev = smua.AUTORANGE_ON\")  # 전압 자동 범위 설정\n",
    "keithley.write(\"smua.source.rangev = 5\")  # 전압 범위 설정\n",
    "keithley.write(\"smua.source.limiti = 0.1\")  # 전류 제한 설정 (0.1A)\n",
    "keithley.write(\"smua.measure.autozero = smua.AUTOZERO_AUTO\")  # 자동 영점 설정\n",
    "\n",
    "# 측정 데이터를 저장할 리스트\n",
    "voltages = []\n",
    "currents = []\n",
    "keithley.write(f\"smua.source.levelv = 0\")  # 전압 설정\n",
    "keithley.write(\"smua.source.output = smua.OUTPUT_ON\") \n",
    "# 0V에서 5V까지 0.1V 단위로 증가시키며 측정\n",
    "for voltage in range(1, 5):\n",
    "    set_voltage = voltage * 0.1\n",
    "    keithley.write(f\"smua.source.levelv = {set_voltage}\")  # 전압 설정\n",
    "    #keithley.write(\"smua.source.output = smua.OUTPUT_ON\")  # 출력 켜기\n",
    "    time.sleep(0.1)  # 안정화를 위한 대기 시간\n",
    "\n",
    "    # 전류 측정\n",
    "    current = keithley.query(\"print(smua.measure.i())\\n\")\n",
    "    print(f\"Voltage: {set_voltage} V, Current: {current} A\")\n",
    "\n",
    "    # 데이터 저장\n",
    "    voltages.append(set_voltage)\n",
    "    currents.append(float(current))\n",
    "\n",
    "keithley.write(\"smua.source.output = smua.OUTPUT_OFF\")  # 출력 끄기\n",
    "error = keithley.query(\"*STB?\")\n",
    "print(f\"System Error: {error}\")\n",
    "# 측정이 완료되면 장치 종료\n",
    "keithley.write(\"smua.reset()\")\n",
    "keithley.close()\n",
    "\n",
    "# 결과 출력\n",
    "print(\"Voltage-Current Measurements:\")\n",
    "for v, c in zip(voltages, currents):\n",
    "    print(f\"Voltage: {v} V, Current: {c} A\")"
   ]
  }
 ],
 "metadata": {
  "kernelspec": {
   "display_name": "Python 3",
   "language": "python",
   "name": "python3"
  },
  "language_info": {
   "codemirror_mode": {
    "name": "ipython",
    "version": 3
   },
   "file_extension": ".py",
   "mimetype": "text/x-python",
   "name": "python",
   "nbconvert_exporter": "python",
   "pygments_lexer": "ipython3",
   "version": "3.11.7"
  }
 },
 "nbformat": 4,
 "nbformat_minor": 2
}
