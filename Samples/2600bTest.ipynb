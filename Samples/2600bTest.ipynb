{
 "cells": [
  {
   "cell_type": "markdown",
   "metadata": {},
   "source": [
    "### 2600b device\n",
    "\n",
    "2600b device는Gate Voltage를 인가하고 누설 Current를 측정한다.\n",
    "이 때 전압은 일정한 상태를 유지한다."
   ]
  },
  {
   "cell_type": "code",
   "execution_count": 1,
   "metadata": {},
   "outputs": [
    {
     "ename": "NameError",
     "evalue": "name 'resourcemanager' is not defined",
     "output_type": "error",
     "traceback": [
      "\u001b[1;31m---------------------------------------------------------------------------\u001b[0m",
      "\u001b[1;31mNameError\u001b[0m                                 Traceback (most recent call last)",
      "Cell \u001b[1;32mIn[1], line 3\u001b[0m\n\u001b[0;32m      1\u001b[0m \u001b[38;5;28;01mimport\u001b[39;00m \u001b[38;5;21;01mpyvisa\u001b[39;00m\n\u001b[1;32m----> 3\u001b[0m rm\u001b[38;5;241m=\u001b[39m resourcemanager()\n",
      "\u001b[1;31mNameError\u001b[0m: name 'resourcemanager' is not defined"
     ]
    }
   ],
   "source": [
    "import pyvisa\n",
    "\n",
    "rm = pyvisa.ResourceManager()\n",
    "device26 = rm.open_resource('GPIB::26::INSTR')\n",
    "\n",
    "#Check DeviceID\n",
    "print(device26.query('*IDN?'))\n",
    "\n",
    "#Turns on SMU channel A source output.\n",
    "device26.write('smua.source.output = smua.OUTPUT_ON')\n",
    "\n",
    "minRange = -60\n",
    "maxRange = 60\n",
    "\n",
    "volt = 1\n",
    "currentLimit26 = 100\n",
    "device26.write(f':SOUR:FUNC VOLT')\n",
    "for volt in range(minRange, maxRange+1):\n",
    "    #\n",
    "    \n",
    "    #\n",
    "    device26.write()\n",
    "\n"
   ]
  }
 ],
 "metadata": {
  "kernelspec": {
   "display_name": "Python 3",
   "language": "python",
   "name": "python3"
  },
  "language_info": {
   "codemirror_mode": {
    "name": "ipython",
    "version": 3
   },
   "file_extension": ".py",
   "mimetype": "text/x-python",
   "name": "python",
   "nbconvert_exporter": "python",
   "pygments_lexer": "ipython3",
   "version": "3.11.7"
  }
 },
 "nbformat": 4,
 "nbformat_minor": 2
}
