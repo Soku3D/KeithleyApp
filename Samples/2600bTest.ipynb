{
 "cells": [
  {
   "cell_type": "markdown",
   "metadata": {},
   "source": [
    "### 2600b device\n",
    "\n",
    "2600b device는Gate Voltage를 인가하고 누설 Current를 측정한다.\n",
    "이 때 전압은 일정한 상태를 유지한다."
   ]
  },
  {
   "cell_type": "code",
   "execution_count": 26,
   "metadata": {},
   "outputs": [
    {
     "name": "stdout",
     "output_type": "stream",
     "text": [
      "Voltage: 0.1 V, Current: 2.70128e-14\n",
      " A\n",
      "Voltage: 0.2 V, Current: 6.34074e-14\n",
      " A\n",
      "Voltage: 0.30000000000000004 V, Current: 7.90715e-14\n",
      " A\n",
      "Voltage: 0.4 V, Current: 8.49485e-14\n",
      " A\n",
      "System Error: 4\n",
      "\n"
     ]
    }
   ],
   "source": [
    "import pyvisa\n",
    "import time\n",
    "\n",
    "# VISA 리소스 매니저 생성\n",
    "rm = pyvisa.ResourceManager()\n",
    "\n",
    "# Keithley 2635B 연결 (리소스 이름은 변경될 수 있습니다)\n",
    "keithley = rm.open_resource('GPIB1::26::INSTR')\n",
    "keithley.write('*CLS')\n",
    "\n",
    "keithley.write(\"smua.source.func = smua.OUTPUT_DCVOLTS\")  # 소스 기능을 전압으로 설정\n",
    "keithley.write(\"smua.source.autorangev = smua.AUTORANGE_ON\")  # 전압 자동 범위 설정\n",
    "keithley.write(\"smua.source.rangev = 5\")  # 전압 범위 설정\n",
    "keithley.write(\"smua.source.limiti = 0.1\")  # 전류 제한 설정 (0.1A)\n",
    "keithley.write(\"smua.measure.autozero = smua.AUTOZERO_AUTO\")  # 자동 영점 설정\n",
    "\n",
    "\n",
    "# 측정 데이터를 저장할 리스트\n",
    "voltages = []\n",
    "currents = []\n",
    "\n",
    "# 0V에서 5V까지 0.1V 단위로 증가시키며 측정\n",
    "for voltage in range(1, 5):\n",
    "    set_voltage = voltage * 0.1\n",
    "    keithley.write(f\"smua.source.levelv = {set_voltage}\")  # 전압 설정\n",
    "    keithley.write(\"smua.source.output = smua.OUTPUT_ON\")  # 출력 켜기\n",
    "    time.sleep(0.1)  # 안정화를 위한 대기 시간\n",
    "\n",
    "    # 전류 측정\n",
    "    current = keithley.query(\"print(smua.measure.i())\\n\")\n",
    "    print(f\"Voltage: {set_voltage} V, Current: {current} A\")\n",
    "\n",
    "    # 데이터 저장\n",
    "    voltages.append(set_voltage)\n",
    "    currents.append(float(current))\n",
    "    keithley.write(\"smua.source.output = smua.OUTPUT_OFF\")\n",
    "\n",
    "  # 출력 끄기\n",
    "error = keithley.query(\"*STB?\")\n",
    "print(f\"System Error: {error}\")\n",
    "# 측정이 완료되면 장치 종료\n",
    "keithley.write(\"smua.reset()\")\n",
    "keithley.close()\n",
    "\n",
    "# 결과 출력\n",
    "\n"
   ]
  },
  {
   "cell_type": "code",
   "execution_count": 76,
   "metadata": {},
   "outputs": [
    {
     "name": "stdout",
     "output_type": "stream",
     "text": [
      "4.11987e-14\n",
      "\n"
     ]
    }
   ],
   "source": [
    "import pyvisa\n",
    "\n",
    "rm = pyvisa.ResourceManager()\n",
    "keithley = rm.open_resource('GPIB1::26::INSTR')  # 실제 자원 주소로 변경하십시오\n",
    "keithley.write(\"smua.source.func = smua.OUTPUT_DCVOLTS\")  # 소스 기능을 전압으로 설정\n",
    "keithley.write(\"smua.source.autorangev = smua.AUTORANGE_ON\")  # 전압 자동 범위 설정\n",
    "\n",
    "#instrument.write('*CLS')  # 이전 오류나 버퍼 데이터를 정리합니다\n",
    "current = keithley.query(\"print(smua.measure.i())\")  # 쿼리를 보내고 응답을 읽습니다\n",
    "print(current)\n",
    "keithley.close()\n",
    "\n"
   ]
  },
  {
   "cell_type": "code",
   "execution_count": 21,
   "metadata": {},
   "outputs": [
    {
     "name": "stdout",
     "output_type": "stream",
     "text": [
      "Keithley Instruments Inc., Model 2635B, 4467004, 3.3.5\n",
      "\n",
      "8.65698e-14\n",
      "\n",
      "3.51787e-14\n",
      "\n",
      "3.56555e-14\n",
      "\n",
      "3.32475e-14\n",
      "\n",
      "2.57611e-14\n",
      "\n",
      "2.53916e-14\n",
      "\n"
     ]
    },
    {
     "ename": "KeyboardInterrupt",
     "evalue": "",
     "output_type": "error",
     "traceback": [
      "\u001b[1;31m---------------------------------------------------------------------------\u001b[0m",
      "\u001b[1;31mKeyboardInterrupt\u001b[0m                         Traceback (most recent call last)",
      "\u001b[1;32mc:\\Users\\son97\\Documents\\GitHub\\KeithleyApp\\Samples\\2600bTest.ipynb Cell 4\u001b[0m line \u001b[0;36m2\n\u001b[0;32m     <a href='vscode-notebook-cell:/c%3A/Users/son97/Documents/GitHub/KeithleyApp/Samples/2600bTest.ipynb#W5sZmlsZQ%3D%3D?line=18'>19</a>\u001b[0m \u001b[39mfor\u001b[39;00m i \u001b[39min\u001b[39;00m \u001b[39mrange\u001b[39m(\u001b[39m30\u001b[39m):\n\u001b[0;32m     <a href='vscode-notebook-cell:/c%3A/Users/son97/Documents/GitHub/KeithleyApp/Samples/2600bTest.ipynb#W5sZmlsZQ%3D%3D?line=19'>20</a>\u001b[0m     keithley\u001b[39m.\u001b[39mwrite(\u001b[39m'\u001b[39m\u001b[39mprint(smua.measure.i())\u001b[39m\u001b[39m'\u001b[39m)\n\u001b[1;32m---> <a href='vscode-notebook-cell:/c%3A/Users/son97/Documents/GitHub/KeithleyApp/Samples/2600bTest.ipynb#W5sZmlsZQ%3D%3D?line=20'>21</a>\u001b[0m     \u001b[39mprint\u001b[39m(keithley\u001b[39m.\u001b[39mread())\n",
      "File \u001b[1;32mc:\\Users\\son97\\anaconda3\\Lib\\site-packages\\pyvisa\\resources\\messagebased.py:485\u001b[0m, in \u001b[0;36mMessageBasedResource.read\u001b[1;34m(self, termination, encoding)\u001b[0m\n\u001b[0;32m    483\u001b[0m \u001b[39mif\u001b[39;00m termination \u001b[39mis\u001b[39;00m \u001b[39mNone\u001b[39;00m:\n\u001b[0;32m    484\u001b[0m     termination \u001b[39m=\u001b[39m \u001b[39mself\u001b[39m\u001b[39m.\u001b[39m_read_termination\n\u001b[1;32m--> 485\u001b[0m     message \u001b[39m=\u001b[39m \u001b[39mself\u001b[39m\u001b[39m.\u001b[39m_read_raw()\u001b[39m.\u001b[39mdecode(enco)\n\u001b[0;32m    486\u001b[0m \u001b[39melse\u001b[39;00m:\n\u001b[0;32m    487\u001b[0m     \u001b[39mwith\u001b[39;00m \u001b[39mself\u001b[39m\u001b[39m.\u001b[39mread_termination_context(termination):\n",
      "File \u001b[1;32mc:\\Users\\son97\\anaconda3\\Lib\\site-packages\\pyvisa\\resources\\messagebased.py:441\u001b[0m, in \u001b[0;36mMessageBasedResource._read_raw\u001b[1;34m(self, size)\u001b[0m\n\u001b[0;32m    434\u001b[0m     \u001b[39mwhile\u001b[39;00m status \u001b[39m==\u001b[39m loop_status:\n\u001b[0;32m    435\u001b[0m         logger\u001b[39m.\u001b[39mdebug(\n\u001b[0;32m    436\u001b[0m             \u001b[39m\"\u001b[39m\u001b[39m%s\u001b[39;00m\u001b[39m - reading \u001b[39m\u001b[39m%d\u001b[39;00m\u001b[39m bytes (last status \u001b[39m\u001b[39m%r\u001b[39;00m\u001b[39m)\u001b[39m\u001b[39m\"\u001b[39m,\n\u001b[0;32m    437\u001b[0m             \u001b[39mself\u001b[39m\u001b[39m.\u001b[39m_resource_name,\n\u001b[0;32m    438\u001b[0m             size,\n\u001b[0;32m    439\u001b[0m             status,\n\u001b[0;32m    440\u001b[0m         )\n\u001b[1;32m--> 441\u001b[0m         chunk, status \u001b[39m=\u001b[39m \u001b[39mself\u001b[39m\u001b[39m.\u001b[39mvisalib\u001b[39m.\u001b[39mread(\u001b[39mself\u001b[39m\u001b[39m.\u001b[39msession, size)\n\u001b[0;32m    442\u001b[0m         ret\u001b[39m.\u001b[39mextend(chunk)\n\u001b[0;32m    443\u001b[0m \u001b[39mexcept\u001b[39;00m errors\u001b[39m.\u001b[39mVisaIOError \u001b[39mas\u001b[39;00m e:\n",
      "File \u001b[1;32mc:\\Users\\son97\\anaconda3\\Lib\\site-packages\\pyvisa\\ctwrapper\\functions.py:2336\u001b[0m, in \u001b[0;36mread\u001b[1;34m(library, session, count)\u001b[0m\n\u001b[0;32m   2334\u001b[0m buffer \u001b[39m=\u001b[39m create_string_buffer(count)\n\u001b[0;32m   2335\u001b[0m return_count \u001b[39m=\u001b[39m ViUInt32()\n\u001b[1;32m-> 2336\u001b[0m ret \u001b[39m=\u001b[39m library\u001b[39m.\u001b[39mviRead(session, buffer, count, byref(return_count))\n\u001b[0;32m   2337\u001b[0m \u001b[39mreturn\u001b[39;00m buffer\u001b[39m.\u001b[39mraw[: return_count\u001b[39m.\u001b[39mvalue], ret\n",
      "File \u001b[1;32mc:\\Users\\son97\\anaconda3\\Lib\\site-packages\\pyvisa\\ctwrapper\\highlevel.py:184\u001b[0m, in \u001b[0;36mIVIVisaLibrary._return_handler\u001b[1;34m(self, ret_value, func, arguments)\u001b[0m\n\u001b[0;32m    181\u001b[0m     \u001b[39mfor\u001b[39;00m method_name \u001b[39min\u001b[39;00m \u001b[39mgetattr\u001b[39m(\u001b[39mself\u001b[39m\u001b[39m.\u001b[39mlib, \u001b[39m\"\u001b[39m\u001b[39m_functions\u001b[39m\u001b[39m\"\u001b[39m, []):\n\u001b[0;32m    182\u001b[0m         \u001b[39msetattr\u001b[39m(\u001b[39mself\u001b[39m, method_name, \u001b[39mgetattr\u001b[39m(\u001b[39mself\u001b[39m\u001b[39m.\u001b[39mlib, method_name))\n\u001b[1;32m--> 184\u001b[0m \u001b[39mdef\u001b[39;00m \u001b[39m_return_handler\u001b[39m(\u001b[39mself\u001b[39m, ret_value: \u001b[39mint\u001b[39m, func: Callable, arguments: \u001b[39mtuple\u001b[39m) \u001b[39m-\u001b[39m\u001b[39m>\u001b[39m Any:\n\u001b[0;32m    185\u001b[0m \u001b[39m    \u001b[39m\u001b[39m\"\"\"Check return values for errors and warnings.\"\"\"\u001b[39;00m\n\u001b[0;32m    186\u001b[0m     logger\u001b[39m.\u001b[39mdebug(\n\u001b[0;32m    187\u001b[0m         \u001b[39m\"\u001b[39m\u001b[39m%s\u001b[39;00m\u001b[39m%s\u001b[39;00m\u001b[39m -> \u001b[39m\u001b[39m%r\u001b[39;00m\u001b[39m\"\u001b[39m,\n\u001b[0;32m    188\u001b[0m         func\u001b[39m.\u001b[39m\u001b[39m__name__\u001b[39m,\n\u001b[1;32m   (...)\u001b[0m\n\u001b[0;32m    191\u001b[0m         extra\u001b[39m=\u001b[39m\u001b[39mself\u001b[39m\u001b[39m.\u001b[39m_logging_extra,\n\u001b[0;32m    192\u001b[0m     )\n",
      "\u001b[1;31mKeyboardInterrupt\u001b[0m: "
     ]
    }
   ],
   "source": [
    "import pyvisa\n",
    "import numpy as np\n",
    "rm = pyvisa.ResourceManager()\n",
    "keithley = rm.open_resource('GPIB1::26::INSTR')\n",
    "\n",
    "#Check DeviceID\n",
    "print(keithley.query('*IDN?'))\n",
    "keithley.write('*CLS')\n",
    "\n",
    "\n",
    "minRange = -10\n",
    "maxRange = 10\n",
    "step =1\n",
    "volt = 1\n",
    "currentLimit26 = 0.1\n",
    "keithley.write('smua.source.func = smua.OUTPUT_DCVOLTS ')\n",
    "keithley.write(f'smua.source.levelv = 2.0000000000')\n",
    "keithley.write('smua.source.output = smua.OUTPUT_ON')\n",
    "for i in range(30):\n",
    "    keithley.write('print(smua.measure.i())')\n",
    "    print(keithley.read())\n",
    "\n"
   ]
  },
  {
   "cell_type": "code",
   "execution_count": 7,
   "metadata": {},
   "outputs": [
    {
     "name": "stdout",
     "output_type": "stream",
     "text": [
      "-2.0\n",
      "-1.9\n",
      "-1.7999999999999998\n",
      "-1.6999999999999997\n",
      "-1.5999999999999996\n",
      "-1.4999999999999996\n",
      "-1.3999999999999995\n",
      "-1.2999999999999994\n",
      "-1.1999999999999993\n",
      "-1.0999999999999992\n",
      "-0.9999999999999991\n",
      "-0.899999999999999\n",
      "-0.7999999999999989\n",
      "-0.6999999999999988\n",
      "-0.5999999999999988\n",
      "-0.49999999999999867\n",
      "-0.3999999999999986\n",
      "-0.2999999999999985\n",
      "-0.1999999999999984\n",
      "-0.09999999999999831\n",
      "1.7763568394002505e-15\n",
      "0.10000000000000187\n",
      "0.20000000000000195\n",
      "0.30000000000000204\n",
      "0.40000000000000213\n",
      "0.5000000000000022\n",
      "0.6000000000000023\n",
      "0.7000000000000024\n",
      "0.8000000000000025\n",
      "0.9000000000000026\n"
     ]
    }
   ],
   "source": [
    "import numpy as np\n",
    "\n",
    "volts = np.arange(minRange-1,maxRange,step)\n",
    "for v in volts:\n",
    "    print(v)"
   ]
  },
  {
   "cell_type": "code",
   "execution_count": 10,
   "metadata": {},
   "outputs": [
    {
     "name": "stdout",
     "output_type": "stream",
     "text": [
      "12345\n"
     ]
    }
   ],
   "source": [
    "str = \"12345\\n\"\n",
    "print(str[:-1])"
   ]
  }
 ],
 "metadata": {
  "kernelspec": {
   "display_name": "Python 3",
   "language": "python",
   "name": "python3"
  },
  "language_info": {
   "codemirror_mode": {
    "name": "ipython",
    "version": 3
   },
   "file_extension": ".py",
   "mimetype": "text/x-python",
   "name": "python",
   "nbconvert_exporter": "python",
   "pygments_lexer": "ipython3",
   "version": "3.11.7"
  }
 },
 "nbformat": 4,
 "nbformat_minor": 2
}
