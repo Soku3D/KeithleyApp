{
 "cells": [
  {
   "cell_type": "markdown",
   "metadata": {},
   "source": [
    "### 2400 device\n",
    "\n",
    "2400 device는 drain/source voltage를 인가하고, 이에 따른 transistor device에 흐르는 전류를 측정한다."
   ]
  },
  {
   "cell_type": "code",
   "execution_count": 10,
   "metadata": {},
   "outputs": [
    {
     "name": "stdout",
     "output_type": "stream",
     "text": [
      "KEITHLEY INSTRUMENTS INC.,MODEL 2420,4051227,C32   Oct  4 2010 14:20:11/A02  /J/L\n",
      "\n",
      "-1.009574E-09\n",
      "\n",
      "+3.607260E-05\n",
      "\n",
      "+8.551043E-11\n",
      "\n",
      "+1.000073E+00\n",
      "\n",
      "+8.147333E-11\n",
      "\n",
      "+1.999998E+00\n",
      "\n",
      "+7.693191E-11\n",
      "\n",
      "+3.000460E+00\n",
      "\n",
      "+9.459433E-11\n",
      "\n",
      "+4.000336E+00\n",
      "\n",
      "+9.207124E-11\n",
      "\n",
      "+5.000563E+00\n",
      "\n",
      "+8.399687E-11\n",
      "\n",
      "+6.000504E+00\n",
      "\n",
      "+8.954826E-11\n",
      "\n",
      "+7.000704E+00\n",
      "\n",
      "+9.459444E-11\n",
      "\n",
      "+8.000497E+00\n",
      "\n",
      "+8.752926E-11\n",
      "\n",
      "+9.000335E+00\n",
      "\n",
      "+7.743683E-11\n",
      "\n",
      "+1.000068E+01\n",
      "\n"
     ]
    }
   ],
   "source": [
    "import pyvisa\n",
    "import time\n",
    "\n",
    "# VISA 리소스 매니저 생성\n",
    "rm = pyvisa.ResourceManager()\n",
    "\n",
    "# Keithley 2420 계측기에 연결 (VISA 주소를 적절히 변경)\n",
    "keithley = rm.open_resource('GPIB0::24::INSTR')\n",
    "\n",
    "# 장치 ID 확인 (선택사항)\n",
    "print(keithley.query('*IDN?'))\n",
    "\n",
    "# 초기 설정\n",
    "keithley.write('*RST')  # 장치 리셋\n",
    "keithley.write(':SENS:FUNC \"CURR\"')  # 전류 측정 모드 설정\n",
    "keithley.write(':SOUR:FUNC VOLT')  # 전압 소스 모드 설정\n",
    "#keithley.write(':FORM:ELEM CURR')  # 전류만 읽기\n",
    "keithley.write(':SENS:CURR:PROT 0.1')\n",
    "# 전압 및 전류 측정 설정\n",
    "start_voltage = 0\n",
    "end_voltage = 10\n",
    "step_voltage = 1\n",
    "measurement_time = 1  # 초\n",
    "\n",
    "# 결과 저장을 위한 리스트\n",
    "voltages = []\n",
    "currents = []\n",
    "\n",
    "# 측정 루프\n",
    "\n",
    "for voltage in range(start_voltage, end_voltage + step_voltage, step_voltage):\n",
    "    # 전압 설정\n",
    "    keithley.write(f':SOUR:VOLT:LEV {voltage}')\n",
    "    keithley.write(':OUTP ON')  # 출력 켜기\n",
    "    # 안정화 시간 대기\n",
    "    time.sleep(0.5)\n",
    "    # 전류 측정\n",
    "    keithley.write(':FORM:ELEM CURR')\n",
    "    value = keithley.query(':READ?')\n",
    "    # 측정값 저장\n",
    "    \n",
    "    print(value)\n",
    "    # 출력 끄기 (선택사항)\n",
    "    keithley.write(':SENS:FUNC \"VOLT\"')\n",
    "    keithley.write(':FORM:ELEM VOLT')\n",
    "    value = keithley.query(':READ?')\n",
    "    # 측정값 저장\n",
    "    \n",
    "    print(value)\n",
    "    # 출력 끄기 (선택사항)\n",
    "        \n",
    "\n",
    "keithley.write(':OUTP OFF')\n",
    "keithley.write('*RST')\n",
    "keithley.close()\n",
    "\n",
    "\n",
    "   \n"
   ]
  },
  {
   "cell_type": "code",
   "execution_count": 9,
   "metadata": {},
   "outputs": [
    {
     "name": "stdout",
     "output_type": "stream",
     "text": [
      "KEITHLEY INSTRUMENTS INC.,MODEL 2420,4051227,C32   Oct  4 2010 14:20:11/A02  /J/L\n",
      "\n"
     ]
    }
   ],
   "source": [
    "import pyvisa\n",
    "import time\n",
    "\n",
    "# VISA 리소스 매니저 생성\n",
    "rm = pyvisa.ResourceManager()\n",
    "\n",
    "# Keithley 2420 계측기에 연결 (VISA 주소를 적절히 변경)\n",
    "keithley = rm.open_resource('GPIB0::24::INSTR')\n",
    "\n",
    "# 장치 ID 확인 (선택사항)\n",
    "print(keithley.query('*IDN?'))\n",
    "\n",
    "# 초기 설정\n",
    "keithley.write('*RST')  # 장치 리셋\n",
    "keithley.write(':SENS:FUNC \"CURR\"')  # 전류 측정 모드 설정\n",
    "keithley.write(':SOUR:FUNC VOLT')  # 전압 소스 모드 설정\n",
    "keithley.write(':FORM:ELEM CURR')  # 전류만 읽기\n",
    "keithley.write(':SENS:CURR:PROT 0.1')\n",
    "curr = \"1e-2\"\n",
    "keithley.write(f':SENS:CURR:PROT {curr}')\n",
    "# 전압 및 전류 측정 설정\n",
    "start_voltage = 0\n",
    "end_voltage = 10\n",
    "step_voltage = 1\n",
    "measurement_time = 1  # 초\n"
   ]
  },
  {
   "cell_type": "code",
   "execution_count": null,
   "metadata": {},
   "outputs": [],
   "source": [
    "import pyvisa\n",
    "import time\n",
    "\n",
    "# VISA 리소스 매니저 생성\n",
    "rm = pyvisa.ResourceManager()\n",
    "\n",
    "# Keithley 2420 계측기에 연결 (VISA 주소를 적절히 변경)\n",
    "keithley = rm.open_resource('GPIB0::24::INSTR')\n",
    "\n",
    "# 장치 ID 확인 (선택사항)\n",
    "print(keithley.query('*IDN?'))\n",
    "\n",
    "# 초기 설정\n",
    "keithley.write('*RST')  # 장치 리셋\n",
    "#keithley.write(':SENS:FUNC \"CURR\"')  # 전류 측정 모드 설정\n",
    "keithley.write(':SOUR:FUNC VOLT')  # 전압 소스 모드 설정\n",
    "#keithley.write(':FORM:ELEM CURR')  # 전류만 읽기\n",
    "keithley.write(':SENS:CURR:PROT 0.1')\n",
    "# 전압 및 전류 측정 설정\n",
    "start_voltage = 0\n",
    "end_voltage = 10\n",
    "step_voltage = 1\n",
    "measurement_time = 1  # 초\n",
    "\n",
    "# 결과 저장을 위한 리스트\n",
    "voltages = []\n",
    "currents = []\n",
    "\n",
    "# 측정 루프\n",
    "keithley.write(f':SOUR:VOLT:LEV -0.700000')\n",
    "keithley.write(':OUTP ON') \n"
   ]
  },
  {
   "cell_type": "code",
   "execution_count": 5,
   "metadata": {},
   "outputs": [
    {
     "name": "stdout",
     "output_type": "stream",
     "text": [
      "[10.0, 7.992756e-11]\n"
     ]
    }
   ],
   "source": [
    "data = \"1.000000E+01,+7.992756E-11,+9.910000E+37,+1.068882E+03,+2.150800E+04\"\n",
    "\n",
    "\n",
    "drainData = data.split(',')\n",
    "drainData = drainData[:2]\n",
    "drainData = [float(num) for num in drainData]\n",
    "print(drainData)"
   ]
  }
 ],
 "metadata": {
  "kernelspec": {
   "display_name": "base",
   "language": "python",
   "name": "python3"
  },
  "language_info": {
   "codemirror_mode": {
    "name": "ipython",
    "version": 3
   },
   "file_extension": ".py",
   "mimetype": "text/x-python",
   "name": "python",
   "nbconvert_exporter": "python",
   "pygments_lexer": "ipython3",
   "version": "3.11.7"
  }
 },
 "nbformat": 4,
 "nbformat_minor": 2
}
