{
 "cells": [
  {
   "cell_type": "markdown",
   "metadata": {},
   "source": [
    "### 2400 device\n",
    "\n",
    "2400 device는 drain/source voltage를 인가하고, 이에 따른 transistor device에 흐르는 전류를 측정한다."
   ]
  },
  {
   "cell_type": "code",
   "execution_count": 13,
   "metadata": {},
   "outputs": [
    {
     "name": "stdout",
     "output_type": "stream",
     "text": [
      "KEITHLEY INSTRUMENTS INC.,MODEL 2420,4051227,C32   Oct  4 2010 14:20:11/A02  /J/L\n",
      "\n",
      "Voltage: 0 V, Current: -1.289871E-09\n",
      " A\n",
      "Voltage: 1 V, Current: -2.320121E-10\n",
      " A\n"
     ]
    },
    {
     "ename": "KeyboardInterrupt",
     "evalue": "",
     "output_type": "error",
     "traceback": [
      "\u001b[1;31m---------------------------------------------------------------------------\u001b[0m",
      "\u001b[1;31mKeyboardInterrupt\u001b[0m                         Traceback (most recent call last)",
      "\u001b[1;32mc:\\Users\\son97\\Documents\\GitHub\\KeithleyApp\\Samples\\2420Test2.ipynb Cell 2\u001b[0m line \u001b[0;36m4\n\u001b[0;32m     <a href='vscode-notebook-cell:/c%3A/Users/son97/Documents/GitHub/KeithleyApp/Samples/2420Test2.ipynb#W1sZmlsZQ%3D%3D?line=42'>43</a>\u001b[0m currents\u001b[39m.\u001b[39mappend(current)\n\u001b[0;32m     <a href='vscode-notebook-cell:/c%3A/Users/son97/Documents/GitHub/KeithleyApp/Samples/2420Test2.ipynb#W1sZmlsZQ%3D%3D?line=44'>45</a>\u001b[0m \u001b[39m# 측정 시간 대기\u001b[39;00m\n\u001b[1;32m---> <a href='vscode-notebook-cell:/c%3A/Users/son97/Documents/GitHub/KeithleyApp/Samples/2420Test2.ipynb#W1sZmlsZQ%3D%3D?line=45'>46</a>\u001b[0m time\u001b[39m.\u001b[39msleep(measurement_time)\n\u001b[0;32m     <a href='vscode-notebook-cell:/c%3A/Users/son97/Documents/GitHub/KeithleyApp/Samples/2420Test2.ipynb#W1sZmlsZQ%3D%3D?line=47'>48</a>\u001b[0m \u001b[39m# 출력 끄기 (선택사항)\u001b[39;00m\n\u001b[0;32m     <a href='vscode-notebook-cell:/c%3A/Users/son97/Documents/GitHub/KeithleyApp/Samples/2420Test2.ipynb#W1sZmlsZQ%3D%3D?line=49'>50</a>\u001b[0m \u001b[39mprint\u001b[39m(\u001b[39mf\u001b[39m\u001b[39m'\u001b[39m\u001b[39mVoltage: \u001b[39m\u001b[39m{\u001b[39;00mvoltage\u001b[39m}\u001b[39;00m\u001b[39m V, Current: \u001b[39m\u001b[39m{\u001b[39;00mcurrent\u001b[39m}\u001b[39;00m\u001b[39m A\u001b[39m\u001b[39m'\u001b[39m)\n",
      "\u001b[1;31mKeyboardInterrupt\u001b[0m: "
     ]
    }
   ],
   "source": [
    "import pyvisa\n",
    "import time\n",
    "\n",
    "# VISA 리소스 매니저 생성\n",
    "rm = pyvisa.ResourceManager()\n",
    "\n",
    "# Keithley 2420 계측기에 연결 (VISA 주소를 적절히 변경)\n",
    "keithley = rm.open_resource('GPIB0::24::INSTR')\n",
    "\n",
    "# 장치 ID 확인 (선택사항)\n",
    "print(keithley.query('*IDN?'))\n",
    "\n",
    "# 초기 설정\n",
    "keithley.write('*RST')  # 장치 리셋\n",
    "keithley.write(':SENS:FUNC \"CURR\"')  # 전류 측정 모드 설정\n",
    "keithley.write(':SOUR:FUNC VOLT')  # 전압 소스 모드 설정\n",
    "keithley.write(':FORM:ELEM CURR')  # 전류만 읽기\n",
    "keithley.write(':SENS:CURR:PROT 0.1')\n",
    "# 전압 및 전류 측정 설정\n",
    "start_voltage = 0\n",
    "end_voltage = 10\n",
    "step_voltage = 1\n",
    "measurement_time = 1  # 초\n",
    "\n",
    "# 결과 저장을 위한 리스트\n",
    "voltages = []\n",
    "currents = []\n",
    "\n",
    "# 측정 루프\n",
    "try:\n",
    "    for voltage in range(start_voltage, end_voltage + step_voltage, step_voltage):\n",
    "        # 전압 설정\n",
    "        keithley.write(f':SOUR:VOLT:LEV {voltage}')\n",
    "        keithley.write(':OUTP ON')  # 출력 켜기\n",
    "\n",
    "        # 안정화 시간 대기\n",
    "        time.sleep(0.5)\n",
    "\n",
    "        # 전류 측정\n",
    "        current = keithley.query(':READ?')\n",
    "        # 측정값 저장\n",
    "        voltages.append(voltage)\n",
    "        currents.append(current)\n",
    "\n",
    "        # 측정 시간 대기\n",
    "        time.sleep(measurement_time)\n",
    "\n",
    "        # 출력 끄기 (선택사항)\n",
    "\n",
    "        print(f'Voltage: {voltage} V, Current: {current} A')\n",
    "\n",
    "finally:\n",
    "    # 장치 리셋 및 연결 해제\n",
    "    keithley.write(':OUTP OFF')\n",
    "\n",
    "    keithley.write('*RST')\n",
    "    keithley.close()\n",
    "\n",
    "# 결과 출력\n",
    "print(\"Measurements complete.\")\n",
    "for v, c in zip(voltages, currents):\n",
    "    print(f\"Voltage: {v} V, Current: {c} A\")\n",
    "   \n"
   ]
  },
  {
   "cell_type": "code",
   "execution_count": 9,
   "metadata": {},
   "outputs": [
    {
     "name": "stdout",
     "output_type": "stream",
     "text": [
      "KEITHLEY INSTRUMENTS INC.,MODEL 2420,4051227,C32   Oct  4 2010 14:20:11/A02  /J/L\n",
      "\n"
     ]
    }
   ],
   "source": [
    "import pyvisa\n",
    "import time\n",
    "\n",
    "# VISA 리소스 매니저 생성\n",
    "rm = pyvisa.ResourceManager()\n",
    "\n",
    "# Keithley 2420 계측기에 연결 (VISA 주소를 적절히 변경)\n",
    "keithley = rm.open_resource('GPIB0::24::INSTR')\n",
    "\n",
    "# 장치 ID 확인 (선택사항)\n",
    "print(keithley.query('*IDN?'))\n",
    "\n",
    "# 초기 설정\n",
    "keithley.write('*RST')  # 장치 리셋\n",
    "keithley.write(':SENS:FUNC \"CURR\"')  # 전류 측정 모드 설정\n",
    "keithley.write(':SOUR:FUNC VOLT')  # 전압 소스 모드 설정\n",
    "keithley.write(':FORM:ELEM CURR')  # 전류만 읽기\n",
    "keithley.write(':SENS:CURR:PROT 0.1')\n",
    "curr = \"1e-2\"\n",
    "keithley.write(f':SENS:CURR:PROT {curr}')\n",
    "# 전압 및 전류 측정 설정\n",
    "start_voltage = 0\n",
    "end_voltage = 10\n",
    "step_voltage = 1\n",
    "measurement_time = 1  # 초\n"
   ]
  }
 ],
 "metadata": {
  "kernelspec": {
   "display_name": "base",
   "language": "python",
   "name": "python3"
  },
  "language_info": {
   "codemirror_mode": {
    "name": "ipython",
    "version": 3
   },
   "file_extension": ".py",
   "mimetype": "text/x-python",
   "name": "python",
   "nbconvert_exporter": "python",
   "pygments_lexer": "ipython3",
   "version": "3.11.7"
  }
 },
 "nbformat": 4,
 "nbformat_minor": 2
}
