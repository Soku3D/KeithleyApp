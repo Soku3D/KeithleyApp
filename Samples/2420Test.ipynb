{
 "cells": [
  {
   "cell_type": "markdown",
   "metadata": {},
   "source": [
    "### 2400 device\n",
    "\n",
    "2400 device는 drain/source voltage를 인가하고, 이에 따른 transistor device에 흐르는 전류를 측정한다."
   ]
  },
  {
   "cell_type": "code",
   "execution_count": 1,
   "metadata": {},
   "outputs": [
    {
     "ename": "VisaIOError",
     "evalue": "VI_ERROR_LIBRARY_NFOUND (-1073807202): A code library required by VISA could not be located or loaded.",
     "output_type": "error",
     "traceback": [
      "\u001b[1;31m---------------------------------------------------------------------------\u001b[0m",
      "\u001b[1;31mVisaIOError\u001b[0m                               Traceback (most recent call last)",
      "Cell \u001b[1;32mIn[1], line 5\u001b[0m\n\u001b[0;32m      2\u001b[0m \u001b[38;5;28;01mimport\u001b[39;00m \u001b[38;5;21;01mtime\u001b[39;00m\n\u001b[0;32m      4\u001b[0m rm \u001b[38;5;241m=\u001b[39m pyvisa\u001b[38;5;241m.\u001b[39mResourceManager()\n\u001b[1;32m----> 5\u001b[0m device24 \u001b[38;5;241m=\u001b[39m rm\u001b[38;5;241m.\u001b[39mopen_resource(\u001b[38;5;124m'\u001b[39m\u001b[38;5;124mGPIB::24::INSTR\u001b[39m\u001b[38;5;124m'\u001b[39m)\n\u001b[0;32m      7\u001b[0m \u001b[38;5;66;03m# DeviceID\u001b[39;00m\n\u001b[0;32m      8\u001b[0m \u001b[38;5;28mprint\u001b[39m(device24\u001b[38;5;241m.\u001b[39mquery(\u001b[38;5;124m'\u001b[39m\u001b[38;5;124m*IDN?\u001b[39m\u001b[38;5;124m'\u001b[39m))\n",
      "File \u001b[1;32mc:\\Users\\son\\anaconda3\\Lib\\site-packages\\pyvisa\\highlevel.py:3255\u001b[0m, in \u001b[0;36mResourceManager.open_resource\u001b[1;34m(self, resource_name, access_mode, open_timeout, resource_pyclass, **kwargs)\u001b[0m\n\u001b[0;32m   3227\u001b[0m \u001b[38;5;250m\u001b[39m\u001b[38;5;124;03m\"\"\"Return an instrument for the resource name.\u001b[39;00m\n\u001b[0;32m   3228\u001b[0m \n\u001b[0;32m   3229\u001b[0m \u001b[38;5;124;03mParameters\u001b[39;00m\n\u001b[1;32m   (...)\u001b[0m\n\u001b[0;32m   3252\u001b[0m \n\u001b[0;32m   3253\u001b[0m \u001b[38;5;124;03m\"\"\"\u001b[39;00m\n\u001b[0;32m   3254\u001b[0m \u001b[38;5;28;01mif\u001b[39;00m resource_pyclass \u001b[38;5;129;01mis\u001b[39;00m \u001b[38;5;28;01mNone\u001b[39;00m:\n\u001b[1;32m-> 3255\u001b[0m     info \u001b[38;5;241m=\u001b[39m \u001b[38;5;28mself\u001b[39m\u001b[38;5;241m.\u001b[39mresource_info(resource_name, extended\u001b[38;5;241m=\u001b[39m\u001b[38;5;28;01mTrue\u001b[39;00m)\n\u001b[0;32m   3257\u001b[0m     \u001b[38;5;28;01mtry\u001b[39;00m:\n\u001b[0;32m   3258\u001b[0m         \u001b[38;5;66;03m# When using querying extended resource info the resource_class is not\u001b[39;00m\n\u001b[0;32m   3259\u001b[0m         \u001b[38;5;66;03m# None\u001b[39;00m\n\u001b[0;32m   3260\u001b[0m         resource_pyclass \u001b[38;5;241m=\u001b[39m \u001b[38;5;28mself\u001b[39m\u001b[38;5;241m.\u001b[39m_resource_classes[\n\u001b[0;32m   3261\u001b[0m             (info\u001b[38;5;241m.\u001b[39minterface_type, info\u001b[38;5;241m.\u001b[39mresource_class)  \u001b[38;5;66;03m# type: ignore\u001b[39;00m\n\u001b[0;32m   3262\u001b[0m         ]\n",
      "File \u001b[1;32mc:\\Users\\son\\anaconda3\\Lib\\site-packages\\pyvisa\\highlevel.py:3182\u001b[0m, in \u001b[0;36mResourceManager.resource_info\u001b[1;34m(self, resource_name, extended)\u001b[0m\n\u001b[0;32m   3170\u001b[0m \u001b[38;5;250m\u001b[39m\u001b[38;5;124;03m\"\"\"Get the (extended) information of a particular resource.\u001b[39;00m\n\u001b[0;32m   3171\u001b[0m \n\u001b[0;32m   3172\u001b[0m \u001b[38;5;124;03mParameters\u001b[39;00m\n\u001b[1;32m   (...)\u001b[0m\n\u001b[0;32m   3178\u001b[0m \n\u001b[0;32m   3179\u001b[0m \u001b[38;5;124;03m\"\"\"\u001b[39;00m\n\u001b[0;32m   3181\u001b[0m \u001b[38;5;28;01mif\u001b[39;00m extended:\n\u001b[1;32m-> 3182\u001b[0m     ret, err \u001b[38;5;241m=\u001b[39m \u001b[38;5;28mself\u001b[39m\u001b[38;5;241m.\u001b[39mvisalib\u001b[38;5;241m.\u001b[39mparse_resource_extended(\u001b[38;5;28mself\u001b[39m\u001b[38;5;241m.\u001b[39msession, resource_name)\n\u001b[0;32m   3183\u001b[0m \u001b[38;5;28;01melse\u001b[39;00m:\n\u001b[0;32m   3184\u001b[0m     ret, err \u001b[38;5;241m=\u001b[39m \u001b[38;5;28mself\u001b[39m\u001b[38;5;241m.\u001b[39mvisalib\u001b[38;5;241m.\u001b[39mparse_resource(\u001b[38;5;28mself\u001b[39m\u001b[38;5;241m.\u001b[39msession, resource_name)\n",
      "File \u001b[1;32mc:\\Users\\son\\anaconda3\\Lib\\site-packages\\pyvisa\\ctwrapper\\functions.py:2076\u001b[0m, in \u001b[0;36mparse_resource_extended\u001b[1;34m(library, session, resource_name)\u001b[0m\n\u001b[0;32m   2072\u001b[0m alias_if_exists \u001b[38;5;241m=\u001b[39m create_string_buffer(constants\u001b[38;5;241m.\u001b[39mVI_FIND_BUFLEN)\n\u001b[0;32m   2074\u001b[0m \u001b[38;5;66;03m# [ViSession, ViRsrc, ViPUInt16, ViPUInt16, ViAChar, ViAChar, ViAChar]\u001b[39;00m\n\u001b[0;32m   2075\u001b[0m \u001b[38;5;66;03m# ViRsrc converts from (str, unicode, bytes) to bytes\u001b[39;00m\n\u001b[1;32m-> 2076\u001b[0m ret \u001b[38;5;241m=\u001b[39m library\u001b[38;5;241m.\u001b[39mviParseRsrcEx(\n\u001b[0;32m   2077\u001b[0m     session,\n\u001b[0;32m   2078\u001b[0m     resource_name,\n\u001b[0;32m   2079\u001b[0m     byref(interface_type),\n\u001b[0;32m   2080\u001b[0m     byref(interface_board_number),\n\u001b[0;32m   2081\u001b[0m     resource_class,\n\u001b[0;32m   2082\u001b[0m     unaliased_expanded_resource_name,\n\u001b[0;32m   2083\u001b[0m     alias_if_exists,\n\u001b[0;32m   2084\u001b[0m )\n\u001b[0;32m   2086\u001b[0m res \u001b[38;5;241m=\u001b[39m [\n\u001b[0;32m   2087\u001b[0m     buffer_to_text(val)\n\u001b[0;32m   2088\u001b[0m     \u001b[38;5;28;01mfor\u001b[39;00m val \u001b[38;5;129;01min\u001b[39;00m (resource_class, unaliased_expanded_resource_name, alias_if_exists)\n\u001b[0;32m   2089\u001b[0m ]\n\u001b[0;32m   2091\u001b[0m \u001b[38;5;28;01mif\u001b[39;00m res[\u001b[38;5;241m-\u001b[39m\u001b[38;5;241m1\u001b[39m] \u001b[38;5;241m==\u001b[39m \u001b[38;5;124m\"\u001b[39m\u001b[38;5;124m\"\u001b[39m:\n",
      "File \u001b[1;32mc:\\Users\\son\\anaconda3\\Lib\\site-packages\\pyvisa\\ctwrapper\\highlevel.py:226\u001b[0m, in \u001b[0;36mIVIVisaLibrary._return_handler\u001b[1;34m(self, ret_value, func, arguments)\u001b[0m\n\u001b[0;32m    223\u001b[0m         \u001b[38;5;66;03m# Set session back to a safe value\u001b[39;00m\n\u001b[0;32m    224\u001b[0m         session \u001b[38;5;241m=\u001b[39m \u001b[38;5;28;01mNone\u001b[39;00m\n\u001b[1;32m--> 226\u001b[0m \u001b[38;5;28;01mreturn\u001b[39;00m \u001b[38;5;28mself\u001b[39m\u001b[38;5;241m.\u001b[39mhandle_return_value(session, ret_value)\n",
      "File \u001b[1;32mc:\\Users\\son\\anaconda3\\Lib\\site-packages\\pyvisa\\highlevel.py:251\u001b[0m, in \u001b[0;36mVisaLibraryBase.handle_return_value\u001b[1;34m(self, session, status_code)\u001b[0m\n\u001b[0;32m    248\u001b[0m     \u001b[38;5;28mself\u001b[39m\u001b[38;5;241m.\u001b[39m_last_status_in_session[session] \u001b[38;5;241m=\u001b[39m rv\n\u001b[0;32m    250\u001b[0m \u001b[38;5;28;01mif\u001b[39;00m rv \u001b[38;5;241m<\u001b[39m \u001b[38;5;241m0\u001b[39m:\n\u001b[1;32m--> 251\u001b[0m     \u001b[38;5;28;01mraise\u001b[39;00m errors\u001b[38;5;241m.\u001b[39mVisaIOError(rv)\n\u001b[0;32m    253\u001b[0m \u001b[38;5;28;01mif\u001b[39;00m rv \u001b[38;5;129;01min\u001b[39;00m \u001b[38;5;28mself\u001b[39m\u001b[38;5;241m.\u001b[39missue_warning_on:\n\u001b[0;32m    254\u001b[0m     \u001b[38;5;28;01mif\u001b[39;00m session \u001b[38;5;129;01mand\u001b[39;00m rv \u001b[38;5;129;01mnot\u001b[39;00m \u001b[38;5;129;01min\u001b[39;00m \u001b[38;5;28mself\u001b[39m\u001b[38;5;241m.\u001b[39m_ignore_warning_in_session[session]:\n",
      "\u001b[1;31mVisaIOError\u001b[0m: VI_ERROR_LIBRARY_NFOUND (-1073807202): A code library required by VISA could not be located or loaded."
     ]
    }
   ],
   "source": [
    "import pyvisa\n",
    "import time\n",
    "\n",
    "rm = pyvisa.ResourceManager()\n",
    "device24 = rm.open_resource('GPIB::24::INSTR')\n",
    "\n",
    "# DeviceID\n",
    "print(device24.query('*IDN?'))\n",
    "\n",
    "\n",
    "\n",
    "currentLimit = 0.1\n",
    "device24.write(f':SENS:CURR:PROT {currentLimit}') # Set Current Limit\n",
    "\n",
    "minVoltage = -60\n",
    "maxVoltage = 60\n",
    "\n",
    "\n",
    "device24.write(':SOUR:FUNC VOLT')# Set voltage source mode\n",
    "device24.write(':SENS:FUNC \"CURR\"') # Set current measure mode\n",
    "for volt in range(minVoltage, maxVoltage+1):\n",
    "    \n",
    "    #\n",
    "    device24.write()\n",
    "    #wait 1 second\n",
    "    time.sleep(1)\n",
    "    \n",
    "\n",
    "\n",
    "device24.write(':OUTP OFF')\n",
    "device24.close()"
   ]
  }
 ],
 "metadata": {
  "kernelspec": {
   "display_name": "base",
   "language": "python",
   "name": "python3"
  },
  "language_info": {
   "codemirror_mode": {
    "name": "ipython",
    "version": 3
   },
   "file_extension": ".py",
   "mimetype": "text/x-python",
   "name": "python",
   "nbconvert_exporter": "python",
   "pygments_lexer": "ipython3",
   "version": "3.11.7"
  }
 },
 "nbformat": 4,
 "nbformat_minor": 2
}
