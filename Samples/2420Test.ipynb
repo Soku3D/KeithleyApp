{
 "cells": [
  {
   "cell_type": "markdown",
   "metadata": {},
   "source": [
    "### 2400 device\n",
    "\n",
    "2400 device는 drain/source voltage를 인가하고, 이에 따른 transistor device에 흐르는 전류를 측정한다."
   ]
  },
  {
   "cell_type": "code",
   "execution_count": 1,
   "metadata": {},
   "outputs": [
    {
     "name": "stdout",
     "output_type": "stream",
     "text": [
      "KEITHLEY INSTRUMENTS INC.,MODEL 2420,4051227,C32   Oct  4 2010 14:20:11/A02  /J/L\n",
      "\n"
     ]
    },
    {
     "ename": "VisaIOError",
     "evalue": "VI_ERROR_TMO (-1073807339): Timeout expired before operation completed.",
     "output_type": "error",
     "traceback": [
      "\u001b[1;31m---------------------------------------------------------------------------\u001b[0m",
      "\u001b[1;31mVisaIOError\u001b[0m                               Traceback (most recent call last)",
      "\u001b[1;32mc:\\Users\\son97\\Documents\\GitHub\\KeithleyApp\\Samples\\2420Test.ipynb Cell 2\u001b[0m line \u001b[0;36m<cell line: 46>\u001b[1;34m()\u001b[0m\n\u001b[0;32m     <a href='vscode-notebook-cell:/c%3A/Users/son97/Documents/GitHub/KeithleyApp/Samples/2420Test.ipynb#W1sZmlsZQ%3D%3D?line=43'>44</a>\u001b[0m result \u001b[39m=\u001b[39m Keithley\u001b[39m.\u001b[39mquery(\u001b[39m\"\u001b[39m\u001b[39m:READ?\u001b[39m\u001b[39m\"\u001b[39m)\n\u001b[0;32m     <a href='vscode-notebook-cell:/c%3A/Users/son97/Documents/GitHub/KeithleyApp/Samples/2420Test.ipynb#W1sZmlsZQ%3D%3D?line=44'>45</a>\u001b[0m yvalues \u001b[39m=\u001b[39m Keithley\u001b[39m.\u001b[39mquery_ascii_values(\u001b[39m\"\u001b[39m\u001b[39m:FETC?\u001b[39m\u001b[39m\"\u001b[39m)\n\u001b[1;32m---> <a href='vscode-notebook-cell:/c%3A/Users/son97/Documents/GitHub/KeithleyApp/Samples/2420Test.ipynb#W1sZmlsZQ%3D%3D?line=45'>46</a>\u001b[0m data \u001b[39m=\u001b[39m Keithley\u001b[39m.\u001b[39;49mquery(\u001b[39m'\u001b[39;49m\u001b[39mTRAC:DATA? 1,1\u001b[39;49m\u001b[39m'\u001b[39;49m) \n\u001b[0;32m     <a href='vscode-notebook-cell:/c%3A/Users/son97/Documents/GitHub/KeithleyApp/Samples/2420Test.ipynb#W1sZmlsZQ%3D%3D?line=47'>48</a>\u001b[0m \u001b[39mprint\u001b[39m(yvalues)\n\u001b[0;32m     <a href='vscode-notebook-cell:/c%3A/Users/son97/Documents/GitHub/KeithleyApp/Samples/2420Test.ipynb#W1sZmlsZQ%3D%3D?line=48'>49</a>\u001b[0m \u001b[39mprint\u001b[39m(result)\n",
      "File \u001b[1;32mc:\\Users\\son97\\AppData\\Local\\Programs\\Python\\Python310\\lib\\site-packages\\pyvisa\\resources\\messagebased.py:647\u001b[0m, in \u001b[0;36mMessageBasedResource.query\u001b[1;34m(self, message, delay)\u001b[0m\n\u001b[0;32m    644\u001b[0m \u001b[39mif\u001b[39;00m delay \u001b[39m>\u001b[39m \u001b[39m0.0\u001b[39m:\n\u001b[0;32m    645\u001b[0m     time\u001b[39m.\u001b[39msleep(delay)\n\u001b[1;32m--> 647\u001b[0m \u001b[39mreturn\u001b[39;00m \u001b[39mself\u001b[39;49m\u001b[39m.\u001b[39;49mread()\n",
      "File \u001b[1;32mc:\\Users\\son97\\AppData\\Local\\Programs\\Python\\Python310\\lib\\site-packages\\pyvisa\\resources\\messagebased.py:485\u001b[0m, in \u001b[0;36mMessageBasedResource.read\u001b[1;34m(self, termination, encoding)\u001b[0m\n\u001b[0;32m    483\u001b[0m \u001b[39mif\u001b[39;00m termination \u001b[39mis\u001b[39;00m \u001b[39mNone\u001b[39;00m:\n\u001b[0;32m    484\u001b[0m     termination \u001b[39m=\u001b[39m \u001b[39mself\u001b[39m\u001b[39m.\u001b[39m_read_termination\n\u001b[1;32m--> 485\u001b[0m     message \u001b[39m=\u001b[39m \u001b[39mself\u001b[39;49m\u001b[39m.\u001b[39;49m_read_raw()\u001b[39m.\u001b[39mdecode(enco)\n\u001b[0;32m    486\u001b[0m \u001b[39melse\u001b[39;00m:\n\u001b[0;32m    487\u001b[0m     \u001b[39mwith\u001b[39;00m \u001b[39mself\u001b[39m\u001b[39m.\u001b[39mread_termination_context(termination):\n",
      "File \u001b[1;32mc:\\Users\\son97\\AppData\\Local\\Programs\\Python\\Python310\\lib\\site-packages\\pyvisa\\resources\\messagebased.py:441\u001b[0m, in \u001b[0;36mMessageBasedResource._read_raw\u001b[1;34m(self, size)\u001b[0m\n\u001b[0;32m    434\u001b[0m     \u001b[39mwhile\u001b[39;00m status \u001b[39m==\u001b[39m loop_status:\n\u001b[0;32m    435\u001b[0m         logger\u001b[39m.\u001b[39mdebug(\n\u001b[0;32m    436\u001b[0m             \u001b[39m\"\u001b[39m\u001b[39m%s\u001b[39;00m\u001b[39m - reading \u001b[39m\u001b[39m%d\u001b[39;00m\u001b[39m bytes (last status \u001b[39m\u001b[39m%r\u001b[39;00m\u001b[39m)\u001b[39m\u001b[39m\"\u001b[39m,\n\u001b[0;32m    437\u001b[0m             \u001b[39mself\u001b[39m\u001b[39m.\u001b[39m_resource_name,\n\u001b[0;32m    438\u001b[0m             size,\n\u001b[0;32m    439\u001b[0m             status,\n\u001b[0;32m    440\u001b[0m         )\n\u001b[1;32m--> 441\u001b[0m         chunk, status \u001b[39m=\u001b[39m \u001b[39mself\u001b[39;49m\u001b[39m.\u001b[39;49mvisalib\u001b[39m.\u001b[39;49mread(\u001b[39mself\u001b[39;49m\u001b[39m.\u001b[39;49msession, size)\n\u001b[0;32m    442\u001b[0m         ret\u001b[39m.\u001b[39mextend(chunk)\n\u001b[0;32m    443\u001b[0m \u001b[39mexcept\u001b[39;00m errors\u001b[39m.\u001b[39mVisaIOError \u001b[39mas\u001b[39;00m e:\n",
      "File \u001b[1;32mc:\\Users\\son97\\AppData\\Local\\Programs\\Python\\Python310\\lib\\site-packages\\pyvisa\\ctwrapper\\functions.py:2336\u001b[0m, in \u001b[0;36mread\u001b[1;34m(library, session, count)\u001b[0m\n\u001b[0;32m   2334\u001b[0m buffer \u001b[39m=\u001b[39m create_string_buffer(count)\n\u001b[0;32m   2335\u001b[0m return_count \u001b[39m=\u001b[39m ViUInt32()\n\u001b[1;32m-> 2336\u001b[0m ret \u001b[39m=\u001b[39m library\u001b[39m.\u001b[39;49mviRead(session, buffer, count, byref(return_count))\n\u001b[0;32m   2337\u001b[0m \u001b[39mreturn\u001b[39;00m buffer\u001b[39m.\u001b[39mraw[: return_count\u001b[39m.\u001b[39mvalue], ret\n",
      "File \u001b[1;32mc:\\Users\\son97\\AppData\\Local\\Programs\\Python\\Python310\\lib\\site-packages\\pyvisa\\ctwrapper\\highlevel.py:226\u001b[0m, in \u001b[0;36mIVIVisaLibrary._return_handler\u001b[1;34m(self, ret_value, func, arguments)\u001b[0m\n\u001b[0;32m    223\u001b[0m         \u001b[39m# Set session back to a safe value\u001b[39;00m\n\u001b[0;32m    224\u001b[0m         session \u001b[39m=\u001b[39m \u001b[39mNone\u001b[39;00m\n\u001b[1;32m--> 226\u001b[0m \u001b[39mreturn\u001b[39;00m \u001b[39mself\u001b[39;49m\u001b[39m.\u001b[39;49mhandle_return_value(session, ret_value)\n",
      "File \u001b[1;32mc:\\Users\\son97\\AppData\\Local\\Programs\\Python\\Python310\\lib\\site-packages\\pyvisa\\highlevel.py:251\u001b[0m, in \u001b[0;36mVisaLibraryBase.handle_return_value\u001b[1;34m(self, session, status_code)\u001b[0m\n\u001b[0;32m    248\u001b[0m     \u001b[39mself\u001b[39m\u001b[39m.\u001b[39m_last_status_in_session[session] \u001b[39m=\u001b[39m rv\n\u001b[0;32m    250\u001b[0m \u001b[39mif\u001b[39;00m rv \u001b[39m<\u001b[39m \u001b[39m0\u001b[39m:\n\u001b[1;32m--> 251\u001b[0m     \u001b[39mraise\u001b[39;00m errors\u001b[39m.\u001b[39mVisaIOError(rv)\n\u001b[0;32m    253\u001b[0m \u001b[39mif\u001b[39;00m rv \u001b[39min\u001b[39;00m \u001b[39mself\u001b[39m\u001b[39m.\u001b[39missue_warning_on:\n\u001b[0;32m    254\u001b[0m     \u001b[39mif\u001b[39;00m session \u001b[39mand\u001b[39;00m rv \u001b[39mnot\u001b[39;00m \u001b[39min\u001b[39;00m \u001b[39mself\u001b[39m\u001b[39m.\u001b[39m_ignore_warning_in_session[session]:\n",
      "\u001b[1;31mVisaIOError\u001b[0m: VI_ERROR_TMO (-1073807339): Timeout expired before operation completed."
     ]
    }
   ],
   "source": [
    "import pyvisa\n",
    "import time\n",
    "\n",
    "rm = pyvisa.ResourceManager()\n",
    "Keithley = rm.open_resource('GPIB::24::INSTR')\n",
    "\n",
    "# DeviceID\n",
    "print(Keithley.query('*IDN?'))\n",
    "\n",
    "startv = \"0\"\n",
    "stopv = \"60\"\n",
    "stepv =\"1\"\n",
    "steps= \"61\"\n",
    "startvprime = float(startv)\n",
    "stopvprime = float(stopv)\n",
    "stepvprime = float(stepv)\n",
    "steps = (stopvprime - startvprime) / stepvprime \n",
    "\n",
    "# Turn off concurrent functions and set sensor to current with fixed voltage\n",
    "Keithley.write(\":SENS:FUNC:CONC OFF\")\n",
    "Keithley.write(\":SOUR:FUNC VOLT\")\n",
    "Keithley.write(\":SENS:FUNC 'CURR:DC' \")\n",
    "\n",
    "# Voltage starting, ending, and spacing values based on input\n",
    "Keithley.write(\":SOUR:VOLT:STAR \", startv)\n",
    "Keithley.write(\":SOUR:VOLT:STOP \", stopv)\n",
    "Keithley.write(\":SOUR:VOLT:STEP \", stepv)\n",
    "Keithley.write(\":SOUR:SWE:RANG AUTO\")\n",
    "\n",
    "# Set compliance current (in A), sweep direction, and data acquisition\n",
    "Keithley.write(\":SENS:CURR:PROT 1\")\n",
    "Keithley.write(\":SOUR:SWE:SPAC LIN\")\n",
    "Keithley.write(\":SOUR:VOLT:DEL 0.5\")\n",
    "Keithley.write(\":SOUR:SWE:POIN \", str(int(steps)))\n",
    "Keithley.write(\":SOUR:SWE:DIR UP\")\n",
    "Keithley.write(\":TRIG:COUN \", str(int(steps)))\n",
    "Keithley.write(\":FORM:ELEM CURR\")\n",
    "\n",
    "# Set sweep mode and turn output on\n",
    "Keithley.write(\":SOUR:VOLT:MODE SWE\")\n",
    "Keithley.write(\":OUTP ON\")\n",
    "\n",
    "# Initiate sweep, collect ACSII current values, and turn output off\n",
    "result = Keithley.query(\":READ?\")\n",
    "yvalues = Keithley.query_ascii_values(\":FETC?\")\n",
    "#data = Keithley.query('TRAC:DATA? 1,1') \n",
    "\n",
    "print(yvalues)\n",
    "print(result)\n",
    "Keithley.write(\":OUTP OFF\")\n",
    "Keithley.write(\":SOUR:VOLT 0\")\n",
    "\n",
    "# Import Pyplot, NumPy, and SciPy\n",
    "import matplotlib.pyplot as plt\n",
    "import numpy as np\n",
    "from scipy import stats\n",
    "\n",
    "# Create xvalues array and calculate conductance\n",
    "xvalues = np.arange(startvprime,stopvprime,stepvprime)\n",
    "slope, intercept, r_value, p_value, std_error = stats.linregress(xvalues, yvalues)\n",
    "\n",
    "# Plot values and output conductance to command line\n",
    "print(\"Conductance:\", slope, \"Siemens\")\n",
    "plt.plot(xvalues,yvalues)\n",
    "plt.xlabel(' Drain-Source Voltage (V)')\n",
    "plt.ylabel(' Drain-Source Current (A)')\n",
    "plt.title('IV Curve')\n",
    "plt.show()\n",
    "np.savetxt(\"test\", (xvalues,yvalues)) "
   ]
  }
 ],
 "metadata": {
  "kernelspec": {
   "display_name": "base",
   "language": "python",
   "name": "python3"
  },
  "language_info": {
   "codemirror_mode": {
    "name": "ipython",
    "version": 3
   },
   "file_extension": ".py",
   "mimetype": "text/x-python",
   "name": "python",
   "nbconvert_exporter": "python",
   "pygments_lexer": "ipython3",
   "version": "3.10.11"
  }
 },
 "nbformat": 4,
 "nbformat_minor": 2
}
